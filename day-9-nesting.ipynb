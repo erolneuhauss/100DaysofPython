{
 "cells": [
  {
   "cell_type": "code",
   "execution_count": null,
   "metadata": {},
   "outputs": [],
   "source": [
    "# Simple Dictionary\n",
    "capitals = {\n",
    "    \"France\": \"Paris\",\n",
    "    \"Germany\": \"Berlin\",\n",
    "}\n",
    "\n",
    "# List in a Dictionary\n",
    "travel_log = {\n",
    "    \"France\": [\"Paris\", \"Lille\", \"Dijon\"],\n",
    "    \"Germany\": [\"Berlin\", \"Hamburg\", \"Stuttgart\"]\n",
    "}\n",
    "\n",
    "# Nesting Dictionary in a Dictionary\n",
    "travel_log = {\n",
    "    \"France\": {\n",
    "        \"cities_visited\": [\"Paris\", \"Lille\", \"Dijon\"],\n",
    "        \"total_visits\": 12\n",
    "    }\n",
    "    \"Germany\": {\n",
    "        \"cities_visited\": [\"Berlin\", \"Hamburg\", \"Stuttgart\"],\n",
    "        \"total_visits\": 5\n",
    "    }\n",
    "}\n",
    "\n",
    "# Nesting Dictionary in a List\n",
    "travel_log = [\n",
    "    {\n",
    "        \"country\": \"France\",\n",
    "        \"cities_visited\": [\"Paris\", \"Lille\", \"Dijon\"],\n",
    "        \"total_visits\": 12\n",
    "    },\n",
    "    {\n",
    "        \"country\": \"Germany\",\n",
    "        \"cities_visited\": [\"Berlin\", \"Hamburg\", \"Stuttgart\"],\n",
    "        \"total_visits\": 5\n",
    "    },\n",
    "]\n",
    "\n"
   ]
  }
 ],
 "metadata": {
  "kernelspec": {
   "display_name": "Python 3",
   "language": "python",
   "name": "python3"
  },
  "language_info": {
   "codemirror_mode": {
    "name": "ipython",
    "version": 3
   },
   "file_extension": ".py",
   "mimetype": "text/x-python",
   "name": "python",
   "nbconvert_exporter": "python",
   "pygments_lexer": "ipython3",
   "version": "3.8.5"
  }
 },
 "nbformat": 4,
 "nbformat_minor": 4
}
