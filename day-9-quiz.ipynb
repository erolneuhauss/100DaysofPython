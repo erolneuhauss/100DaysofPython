{
 "cells": [
  {
   "cell_type": "code",
   "execution_count": null,
   "metadata": {},
   "outputs": [],
   "source": [
    "starting_dictionary = {\n",
    "    \"a\": 9,\n",
    "    \"b\": 8,\n",
    "}\n",
    "final_dictionary = {}\n",
    "\n",
    "# TypeError: 'dict' object is not callable\n",
    "# final_dictionary = starting_dictionary({\"c\": 7})\n",
    "\n",
    "# prints 7 only\n",
    "# final_dictionary = starting_dictionary[\"c\"] = 7\n",
    "\n",
    "starting_dictionary[\"c\"] = 7\n",
    "print(starting_dictionary)\n",
    "\n",
    "final_dictionary = starting_dictionary\n",
    "print(final_dictionary)"
   ]
  },
  {
   "cell_type": "code",
   "execution_count": null,
   "metadata": {},
   "outputs": [],
   "source": [
    "dict = {\n",
    "    \"a\": 1,\n",
    "    \"b\": 2,\n",
    "    \"c\": 3,\n",
    "}\n"
   ]
  },
  {
   "cell_type": "code",
   "execution_count": null,
   "metadata": {},
   "outputs": [],
   "source": [
    "order = {\n",
    "    \"starter\": {\n",
    "        1: \"Salad\",\n",
    "        2: \"Soup\"\n",
    "    },\n",
    "    \"main\": {\n",
    "        1: [\"Burger\", \"Fries\"],\n",
    "        2: [\"Steak\"]\n",
    "    },\n",
    "    \"dessert\": {\n",
    "        1: [\"Ice Cream\"],\n",
    "        2: []\n",
    "    },\n",
    "}\n",
    "\n",
    "print(order[\"main\"][2][0])"
   ]
  }
 ],
 "metadata": {
  "kernelspec": {
   "display_name": "Python 3",
   "language": "python",
   "name": "python3"
  },
  "language_info": {
   "codemirror_mode": {
    "name": "ipython",
    "version": 3
   },
   "file_extension": ".py",
   "mimetype": "text/x-python",
   "name": "python",
   "nbconvert_exporter": "python",
   "pygments_lexer": "ipython3",
   "version": "3.8.5"
  }
 },
 "nbformat": 4,
 "nbformat_minor": 4
}
