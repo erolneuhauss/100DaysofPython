{
 "cells": [
  {
   "cell_type": "code",
   "execution_count": 67,
   "metadata": {},
   "outputs": [
    {
     "name": "stdout",
     "output_type": "stream",
     "text": [
      "{'Sissi': 10, 'Erol': 20, 'Mel': 50, 'Zebra': 30, 'Alfred': 100}\n",
      "100\n",
      "Alfred\n",
      "Highest bidder is Alfred who has bid 100\n",
      "What is your name? Tim\n",
      "What is your bid? 12\n",
      "Are there other users who want to bid?Type 'yes'. Otherwise type 'no'\n",
      "no\n",
      "Goodbye!\n",
      "{'Sissi': 10, 'Erol': 20, 'Mel': 50, 'Zebra': 30, 'Alfred': 100, 'Tim': 12}\n",
      "Alfred\n",
      "Highest bidder is Alfred who has bid 100\n"
     ]
    }
   ],
   "source": [
    "from diverse_logos import gavel_logo\n",
    "from os import system, name\n",
    "def clear():  \n",
    "    # for windows\n",
    "    if name == 'nt':\n",
    "        _ = system('cls')\n",
    "  \n",
    "    # for mac and linux(here, os.name is 'posix')\n",
    "    else:\n",
    "        _ = system('clear')\n",
    "\n",
    "auction_dict = {\n",
    "    \"Sissi\": 10,\n",
    "    \"Erol\": 20,\n",
    "    \"Mel\": 50,\n",
    "    \"Zebra\": 30,\n",
    "    \"Alfred\": 100\n",
    "    }\n",
    "#print(auction_list)\n",
    "print(auction_dict)\n",
    "\n",
    "highest_value = max(auction_dict.values())\n",
    "print(highest_value)\n",
    "\n",
    "highest_bidder = max(auction_dict, key=auction_dict.get)\n",
    "print(highest_bidder)\n",
    "\n",
    "print(f\"Highest bidder is {highest_bidder} who has bid {auction_dict[highest_bidder]}\")\n",
    "\n",
    "def add_auctioners(bidder_name, bidder_value):\n",
    "    auction_dict[bidder_name] = bidder_value\n",
    "\n",
    "should_continue = True\n",
    "while should_continue:\n",
    "    name = input(\"What is your name? \")\n",
    "    bid = int(input(\"What is your bid? \"))\n",
    "    add_auctioners(bidder_name=name, bidder_value=bid)\n",
    "    should_continue = input(\"Are there other users who want to bid?\"+\n",
    "                            \"Type 'yes'. Otherwise type 'no'\\n\")\n",
    "    if should_continue == \"no\":\n",
    "        print(\"Goodbye!\")\n",
    "        should_continue = False\n",
    "    else:\n",
    "        clear()\n",
    "print(auction_dict)\n",
    "\n",
    "highest_bidder = max(auction_dict, key=auction_dict.get)\n",
    "print(highest_bidder)\n",
    "print(f\"Highest bidder is {highest_bidder} who has bid {auction_dict[highest_bidder]}\")\n"
   ]
  },
  {
   "cell_type": "code",
   "execution_count": null,
   "metadata": {},
   "outputs": [],
   "source": []
  }
 ],
 "metadata": {
  "kernelspec": {
   "display_name": "Python 3",
   "language": "python",
   "name": "python3"
  },
  "language_info": {
   "codemirror_mode": {
    "name": "ipython",
    "version": 3
   },
   "file_extension": ".py",
   "mimetype": "text/x-python",
   "name": "python",
   "nbconvert_exporter": "python",
   "pygments_lexer": "ipython3",
   "version": "3.8.5"
  }
 },
 "nbformat": 4,
 "nbformat_minor": 4
}
