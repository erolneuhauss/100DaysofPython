{
 "cells": [
  {
   "cell_type": "markdown",
   "metadata": {},
   "source": [
    "# DEBUGGING"
   ]
  },
  {
   "cell_type": "code",
   "execution_count": 7,
   "metadata": {},
   "outputs": [],
   "source": [
    "# Describe Problem\n",
    "def my_function():\n",
    "  for i in range(1, 20):\n",
    "    if i == 20:\n",
    "      print(\"You got it\")\n",
    "my_function()"
   ]
  },
  {
   "cell_type": "code",
   "execution_count": 9,
   "metadata": {},
   "outputs": [
    {
     "name": "stderr",
     "output_type": "stream",
     "text": [
      "2021-04-19 14:43:06,914 - DEBUG - Start of my_function\n",
      "2021-04-19 14:43:06,917 - DEBUG - i is 1\n",
      "2021-04-19 14:43:06,920 - DEBUG - i is 2\n",
      "2021-04-19 14:43:06,921 - DEBUG - i is 3\n",
      "2021-04-19 14:43:06,922 - DEBUG - i is 4\n",
      "2021-04-19 14:43:06,923 - DEBUG - i is 5\n",
      "2021-04-19 14:43:06,924 - DEBUG - i is 6\n",
      "2021-04-19 14:43:06,924 - DEBUG - i is 7\n",
      "2021-04-19 14:43:06,926 - DEBUG - i is 8\n",
      "2021-04-19 14:43:06,927 - DEBUG - i is 9\n",
      "2021-04-19 14:43:06,928 - DEBUG - End of my_function\n",
      "2021-04-19 14:43:06,929 - DEBUG - End of Program\n"
     ]
    }
   ],
   "source": [
    "import logging\n",
    "logging.basicConfig(level=logging.DEBUG, format='%(asctime)s - %(levelname)s - %(message)s')\n",
    "def my_function():\n",
    "  logging.debug(f'Start of my_function')\n",
    "  for i in range(1, 10):\n",
    "    logging.debug(f'i is {i}')\n",
    "    if i == 10:\n",
    "      logging.debug(f'is {i} == 20?')\n",
    "      print(\"You got it\")\n",
    "  logging.debug(f'End of my_function')  \n",
    "my_function()\n",
    "logging.debug(f'End of Program')"
   ]
  },
  {
   "cell_type": "code",
   "execution_count": 1,
   "metadata": {},
   "outputs": [
    {
     "name": "stdout",
     "output_type": "stream",
     "text": [
      "index: 1 dice: ❷\n",
      "index: 2 dice: ❸\n",
      "index: 3 dice: ❹\n",
      "index: 4 dice: ❺\n",
      "index: 5 dice: ❻\n",
      "❻\n"
     ]
    }
   ],
   "source": [
    "# Reproduce the Bug\n",
    "from random import randint\n",
    "dice_imgs = [\"❶\", \"❷\", \"❸\", \"❹\", \"❺\", \"❻\"]\n",
    "dice_num = randint(0, 5)\n",
    "\n",
    "for i in range(1, 5 + 1):\n",
    "    print(f'index: {i} dice: {dice_imgs[i]}')\n",
    "print(dice_imgs[dice_num])"
   ]
  },
  {
   "cell_type": "code",
   "execution_count": 22,
   "metadata": {},
   "outputs": [
    {
     "name": "stdout",
     "output_type": "stream",
     "text": [
      "What's your year of birth?1980\n"
     ]
    }
   ],
   "source": [
    "# Play Computer\n",
    "year = int(input(\"What's your year of birth?\"))\n",
    "if year > 1980 and year < 1994:\n",
    "  print(\"You are a millenial.\")\n",
    "elif year >= 1994:\n",
    "  print(\"You are a Gen Z.\")"
   ]
  },
  {
   "cell_type": "code",
   "execution_count": 7,
   "metadata": {},
   "outputs": [
    {
     "name": "stdout",
     "output_type": "stream",
     "text": [
      "How old are you?65\n",
      "You can drive at age 65.\n"
     ]
    }
   ],
   "source": [
    "# Fix the Errors\n",
    "age = int(input(\"How old are you? \"))\n",
    "if age > 18:\n",
    "    print(f\"You can drive at age {age}.\")\n",
    "else:\n",
    "    print(f\"You can not drive since you are under 18\")"
   ]
  },
  {
   "cell_type": "code",
   "execution_count": 6,
   "metadata": {},
   "outputs": [
    {
     "name": "stdout",
     "output_type": "stream",
     "text": [
      "Number of pages: 10\n",
      "Number of words per page: 10\n",
      "100\n"
     ]
    }
   ],
   "source": [
    "# #Print is Your Friend\n",
    "pages = 0\n",
    "word_per_page = 0\n",
    "pages = int(input(\"Number of pages: \"))\n",
    "word_per_page = int(input(\"Number of words per page: \"))\n",
    "total_words = pages * word_per_page\n",
    "print(total_words)"
   ]
  },
  {
   "cell_type": "code",
   "execution_count": 7,
   "metadata": {},
   "outputs": [
    {
     "name": "stdout",
     "output_type": "stream",
     "text": [
      "[26]\n"
     ]
    }
   ],
   "source": [
    "# Use a Debugger\n",
    "def mutate(a_list):\n",
    "    b_list = []\n",
    "    for item in a_list:\n",
    "        new_item = item * 2\n",
    "    b_list.append(new_item)\n",
    "    print(b_list)\n",
    "\n",
    "mutate([1, 2, 3, 5, 8, 13])"
   ]
  },
  {
   "cell_type": "code",
   "execution_count": 9,
   "metadata": {},
   "outputs": [
    {
     "name": "stderr",
     "output_type": "stream",
     "text": [
      "2021-04-19 15:03:08,753 - DEBUG - Start of my_function\n",
      "2021-04-19 15:03:08,756 - DEBUG - a_list is [1, 2, 3, 5, 8, 13]\n",
      "2021-04-19 15:03:08,762 - DEBUG - item is 1\n",
      "2021-04-19 15:03:08,767 - DEBUG - new_item is 2\n",
      "2021-04-19 15:03:08,771 - DEBUG - b_list is [2]\n",
      "2021-04-19 15:03:08,777 - DEBUG - item is 2\n",
      "2021-04-19 15:03:08,780 - DEBUG - new_item is 4\n",
      "2021-04-19 15:03:08,783 - DEBUG - b_list is [2, 4]\n",
      "2021-04-19 15:03:08,786 - DEBUG - item is 3\n",
      "2021-04-19 15:03:08,791 - DEBUG - new_item is 6\n",
      "2021-04-19 15:03:08,794 - DEBUG - b_list is [2, 4, 6]\n",
      "2021-04-19 15:03:08,799 - DEBUG - item is 5\n",
      "2021-04-19 15:03:08,802 - DEBUG - new_item is 10\n",
      "2021-04-19 15:03:08,804 - DEBUG - b_list is [2, 4, 6, 10]\n",
      "2021-04-19 15:03:08,805 - DEBUG - item is 8\n",
      "2021-04-19 15:03:08,806 - DEBUG - new_item is 16\n",
      "2021-04-19 15:03:08,808 - DEBUG - b_list is [2, 4, 6, 10, 16]\n",
      "2021-04-19 15:03:08,813 - DEBUG - item is 13\n",
      "2021-04-19 15:03:08,814 - DEBUG - new_item is 26\n",
      "2021-04-19 15:03:08,817 - DEBUG - b_list is [2, 4, 6, 10, 16, 26]\n",
      "2021-04-19 15:03:08,818 - DEBUG - End of my_function\n"
     ]
    },
    {
     "name": "stdout",
     "output_type": "stream",
     "text": [
      "[2, 4, 6, 10, 16, 26]\n"
     ]
    }
   ],
   "source": [
    "# Use a Debugger\n",
    "def mutate(a_list):\n",
    "    logging.debug(f'Start of my_function')\n",
    "    logging.debug(f'a_list is {a_list}')\n",
    "    b_list = []\n",
    "    for item in a_list:\n",
    "        logging.debug(f'item is {item}')\n",
    "        new_item = item * 2\n",
    "        logging.debug(f'new_item is {new_item}')\n",
    "        b_list.append(new_item)\n",
    "        logging.debug(f'b_list is {b_list}')\n",
    "    print(b_list)\n",
    "    logging.debug(f'End of my_function')\n",
    "\n",
    "\n",
    "mutate([1, 2, 3, 5, 8, 13])"
   ]
  },
  {
   "cell_type": "code",
   "execution_count": 11,
   "metadata": {},
   "outputs": [
    {
     "name": "stdout",
     "output_type": "stream",
     "text": [
      "Which number do you want to check?3\n",
      "This is an odd number.\n"
     ]
    }
   ],
   "source": [
    "number = int(input(\"Which number do you want to check?\"))\n",
    "\n",
    "if number % 2 == 0:\n",
    "  print(\"This is an even number.\")\n",
    "else:\n",
    "  print(\"This is an odd number.\")\n",
    "  \n"
   ]
  },
  {
   "cell_type": "code",
   "execution_count": 20,
   "metadata": {},
   "outputs": [
    {
     "name": "stdout",
     "output_type": "stream",
     "text": [
      "Which year do you want to check?1000\n",
      "Not leap year.\n"
     ]
    }
   ],
   "source": [
    "year = int(input(\"Which year do you want to check?\"))\n",
    "\n",
    "if year % 4 == 0:\n",
    "  if year % 100 == 0:\n",
    "    if year % 400 == 0:\n",
    "      print(\"Leap year.\")\n",
    "    else:\n",
    "      print(\"Not leap year.\")\n",
    "  else:\n",
    "    print(\"Leap year.\")\n",
    "else:\n",
    "  print(\"Not leap year.\")\n",
    "  "
   ]
  },
  {
   "cell_type": "code",
   "execution_count": 23,
   "metadata": {},
   "outputs": [
    {
     "name": "stdout",
     "output_type": "stream",
     "text": [
      "[1]\n",
      "[2]\n",
      "Fizz\n",
      "[4]\n",
      "Buzz\n",
      "Fizz\n",
      "[7]\n",
      "[8]\n",
      "Fizz\n",
      "Buzz\n",
      "[11]\n",
      "Fizz\n",
      "[13]\n",
      "[14]\n",
      "FizzBuzz\n",
      "[16]\n",
      "[17]\n",
      "Fizz\n",
      "[19]\n"
     ]
    }
   ],
   "source": [
    "for number in range(1, 20):\n",
    "  if number % 3 == 0 and number % 5 == 0:\n",
    "    print(\"FizzBuzz\")\n",
    "  elif number % 3 == 0:\n",
    "    print(\"Fizz\")\n",
    "  elif number % 5 == 0:\n",
    "    print(\"Buzz\")\n",
    "  else:\n",
    "    print([number])"
   ]
  },
  {
   "cell_type": "code",
   "execution_count": null,
   "metadata": {},
   "outputs": [],
   "source": []
  }
 ],
 "metadata": {
  "kernelspec": {
   "display_name": "Python 3",
   "language": "python",
   "name": "python3"
  },
  "language_info": {
   "codemirror_mode": {
    "name": "ipython",
    "version": 3
   },
   "file_extension": ".py",
   "mimetype": "text/x-python",
   "name": "python",
   "nbconvert_exporter": "python",
   "pygments_lexer": "ipython3",
   "version": "3.8.5"
  },
  "varInspector": {
   "cols": {
    "lenName": 16,
    "lenType": 16,
    "lenVar": 40
   },
   "kernels_config": {
    "python": {
     "delete_cmd_postfix": "",
     "delete_cmd_prefix": "del ",
     "library": "var_list.py",
     "varRefreshCmd": "print(var_dic_list())"
    },
    "r": {
     "delete_cmd_postfix": ") ",
     "delete_cmd_prefix": "rm(",
     "library": "var_list.r",
     "varRefreshCmd": "cat(var_dic_list()) "
    }
   },
   "position": {
    "height": "384px",
    "left": "1504px",
    "right": "20px",
    "top": "91px",
    "width": "442px"
   },
   "types_to_exclude": [
    "module",
    "function",
    "builtin_function_or_method",
    "instance",
    "_Feature"
   ],
   "window_display": true
  }
 },
 "nbformat": 4,
 "nbformat_minor": 4
}
