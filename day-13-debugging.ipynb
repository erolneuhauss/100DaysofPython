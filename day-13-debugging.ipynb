{
 "cells": [
  {
   "cell_type": "markdown",
   "metadata": {},
   "source": [
    "# DEBUGGING"
   ]
  },
  {
   "cell_type": "code",
   "execution_count": 7,
   "metadata": {},
   "outputs": [],
   "source": [
    "# Describe Problem\n",
    "def my_function():\n",
    "  for i in range(1, 20):\n",
    "    if i == 20:\n",
    "      print(\"You got it\")\n",
    "my_function()"
   ]
  },
  {
   "cell_type": "code",
   "execution_count": 6,
   "metadata": {},
   "outputs": [
    {
     "name": "stderr",
     "output_type": "stream",
     "text": [
      "2021-04-18 19:47:34,515 - DEBUG - Start of my_function\n",
      "2021-04-18 19:47:34,520 - DEBUG - i is 1\n",
      "2021-04-18 19:47:34,522 - DEBUG - i is 2\n",
      "2021-04-18 19:47:34,524 - DEBUG - i is 3\n",
      "2021-04-18 19:47:34,526 - DEBUG - i is 4\n",
      "2021-04-18 19:47:34,527 - DEBUG - i is 5\n",
      "2021-04-18 19:47:34,528 - DEBUG - i is 6\n",
      "2021-04-18 19:47:34,533 - DEBUG - i is 7\n",
      "2021-04-18 19:47:34,534 - DEBUG - i is 8\n",
      "2021-04-18 19:47:34,534 - DEBUG - i is 9\n",
      "2021-04-18 19:47:34,535 - DEBUG - End of my_function\n",
      "2021-04-18 19:47:34,536 - DEBUG - End of Program\n"
     ]
    }
   ],
   "source": [
    "import logging\n",
    "logging.basicConfig(level=logging.DEBUG, format='%(asctime)s - %(levelname)s - %(message)s')\n",
    "def my_function():\n",
    "  logging.debug(f'Start of my_function')\n",
    "  for i in range(1, 10):\n",
    "    logging.debug(f'i is {i}')\n",
    "    if i == 10:\n",
    "      logging.debug(f'is {i} == 20?')\n",
    "      print(\"You got it\")\n",
    "  logging.debug(f'End of my_function')  \n",
    "my_function()\n",
    "logging.debug(f'End of Program')"
   ]
  },
  {
   "cell_type": "code",
   "execution_count": 3,
   "metadata": {},
   "outputs": [
    {
     "ename": "IndexError",
     "evalue": "list index out of range",
     "output_type": "error",
     "traceback": [
      "\u001b[0;31m---------------------------------------------------------------------------\u001b[0m",
      "\u001b[0;31mIndexError\u001b[0m                                Traceback (most recent call last)",
      "\u001b[0;32m<ipython-input-3-265bbf046f49>\u001b[0m in \u001b[0;36m<module>\u001b[0;34m\u001b[0m\n\u001b[1;32m      3\u001b[0m \u001b[0mdice_imgs\u001b[0m \u001b[0;34m=\u001b[0m \u001b[0;34m[\u001b[0m\u001b[0;34m\"❶\"\u001b[0m\u001b[0;34m,\u001b[0m \u001b[0;34m\"❷\"\u001b[0m\u001b[0;34m,\u001b[0m \u001b[0;34m\"❸\"\u001b[0m\u001b[0;34m,\u001b[0m \u001b[0;34m\"❹\"\u001b[0m\u001b[0;34m,\u001b[0m \u001b[0;34m\"❺\"\u001b[0m\u001b[0;34m,\u001b[0m \u001b[0;34m\"❻\"\u001b[0m\u001b[0;34m]\u001b[0m\u001b[0;34m\u001b[0m\u001b[0;34m\u001b[0m\u001b[0m\n\u001b[1;32m      4\u001b[0m \u001b[0mdice_num\u001b[0m \u001b[0;34m=\u001b[0m \u001b[0mrandint\u001b[0m\u001b[0;34m(\u001b[0m\u001b[0;36m1\u001b[0m\u001b[0;34m,\u001b[0m \u001b[0;36m6\u001b[0m\u001b[0;34m)\u001b[0m\u001b[0;34m\u001b[0m\u001b[0;34m\u001b[0m\u001b[0m\n\u001b[0;32m----> 5\u001b[0;31m \u001b[0mprint\u001b[0m\u001b[0;34m(\u001b[0m\u001b[0mdice_imgs\u001b[0m\u001b[0;34m[\u001b[0m\u001b[0mdice_num\u001b[0m\u001b[0;34m]\u001b[0m\u001b[0;34m)\u001b[0m\u001b[0;34m\u001b[0m\u001b[0;34m\u001b[0m\u001b[0m\n\u001b[0m",
      "\u001b[0;31mIndexError\u001b[0m: list index out of range"
     ]
    }
   ],
   "source": [
    "# Reproduce the Bug\n",
    "from random import randint\n",
    "dice_imgs = [\"❶\", \"❷\", \"❸\", \"❹\", \"❺\", \"❻\"]\n",
    "dice_num = randint(1, 6)\n",
    "print(dice_imgs[dice_num])"
   ]
  },
  {
   "cell_type": "code",
   "execution_count": null,
   "metadata": {},
   "outputs": [],
   "source": [
    "# # Play Computer\n",
    "# year = int(input(\"What's your year of birth?\"))\n",
    "# if year > 1980 and year < 1994:\n",
    "#   print(\"You are a millenial.\")\n",
    "# elif year > 1994:\n",
    "#   print(\"You are a Gen Z.\")"
   ]
  },
  {
   "cell_type": "code",
   "execution_count": null,
   "metadata": {},
   "outputs": [],
   "source": [
    "# # Fix the Errors\n",
    "# age = input(\"How old are you?\")\n",
    "# if age > 18:\n",
    "# print(\"You can drive at age {age}.\")"
   ]
  },
  {
   "cell_type": "code",
   "execution_count": null,
   "metadata": {},
   "outputs": [],
   "source": [
    "# #Print is Your Friend\n",
    "# pages = 0\n",
    "# word_per_page = 0\n",
    "# pages = int(input(\"Number of pages: \"))\n",
    "# word_per_page == int(input(\"Number of words per page: \"))\n",
    "# total_words = pages * word_per_page\n",
    "# print(total_words)"
   ]
  },
  {
   "cell_type": "code",
   "execution_count": null,
   "metadata": {},
   "outputs": [],
   "source": [
    "# #Use a Debugger\n",
    "# def mutate(a_list):\n",
    "#   b_list = []\n",
    "#   for item in a_list:\n",
    "#     new_item = item * 2\n",
    "#   b_list.append(new_item)\n",
    "#   print(b_list)\n",
    "\n",
    "# mutate([1,2,3,5,8,13])"
   ]
  }
 ],
 "metadata": {
  "kernelspec": {
   "display_name": "Python 3",
   "language": "python",
   "name": "python3"
  },
  "language_info": {
   "codemirror_mode": {
    "name": "ipython",
    "version": 3
   },
   "file_extension": ".py",
   "mimetype": "text/x-python",
   "name": "python",
   "nbconvert_exporter": "python",
   "pygments_lexer": "ipython3",
   "version": "3.8.5"
  }
 },
 "nbformat": 4,
 "nbformat_minor": 4
}
