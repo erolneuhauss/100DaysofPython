{
 "cells": [
  {
   "cell_type": "code",
   "execution_count": 4,
   "metadata": {},
   "outputs": [
    {
     "name": "stdout",
     "output_type": "stream",
     "text": [
      "Hello, Erol!\n",
      "How are you, doing?\n",
      "The weather is nice!\n"
     ]
    }
   ],
   "source": [
    "# Review: \n",
    "# Create a function called greet(). \n",
    "# Write 3 print statements inside the function.\n",
    "# Call the greet() function and run your code.\n",
    "def greet():\n",
    "    print(\"Hello, Erol!\")\n",
    "    print(\"How are you, doing?\")\n",
    "    print(\"The weather is nice!\")\n",
    "\n",
    "greet()"
   ]
  },
  {
   "cell_type": "code",
   "execution_count": 7,
   "metadata": {},
   "outputs": [
    {
     "name": "stdout",
     "output_type": "stream",
     "text": [
      "Hello, Erol!\n",
      "How are you doing, Erol?\n",
      "The weather is nice!\n",
      "Hello, Angela!\n",
      "How are you doing, Angela?\n",
      "The weather is nice!\n"
     ]
    }
   ],
   "source": [
    "def greet_a(name):\n",
    "    print(f\"Hello, {name}!\")\n",
    "    print(f\"How are you doing, {name}?\")\n",
    "    print(\"The weather is nice!\")\n",
    "greet_a(\"Erol\")\n",
    "greet_a(\"Angela\")"
   ]
  },
  {
   "cell_type": "code",
   "execution_count": 9,
   "metadata": {},
   "outputs": [
    {
     "name": "stdout",
     "output_type": "stream",
     "text": [
      "Hello, Angela!\n",
      "I am Erol\n",
      "How are you doing?\n"
     ]
    }
   ],
   "source": [
    "def greet_with(sender, receiver):\n",
    "    print(f\"Hello, {receiver}!\")\n",
    "    print(f\"I am {sender}\")\n",
    "    print(\"How are you doing?\")\n",
    "greet_with(\"Erol\", \"Angela\")"
   ]
  },
  {
   "cell_type": "code",
   "execution_count": 10,
   "metadata": {},
   "outputs": [
    {
     "name": "stdout",
     "output_type": "stream",
     "text": [
      "Hello, Angela!\n",
      "I am Erol\n",
      "How are you doing?\n"
     ]
    }
   ],
   "source": [
    "def greet_with(sender, receiver):\n",
    "    print(f\"Hello, {receiver}!\")\n",
    "    print(f\"I am {sender}\")\n",
    "    print(\"How are you doing?\")\n",
    "greet_with(sender = \"Erol\", receiver = \"Angela\")"
   ]
  },
  {
   "cell_type": "code",
   "execution_count": null,
   "metadata": {},
   "outputs": [],
   "source": []
  }
 ],
 "metadata": {
  "kernelspec": {
   "display_name": "Python 3",
   "language": "python",
   "name": "python3"
  },
  "language_info": {
   "codemirror_mode": {
    "name": "ipython",
    "version": 3
   },
   "file_extension": ".py",
   "mimetype": "text/x-python",
   "name": "python",
   "nbconvert_exporter": "python",
   "pygments_lexer": "ipython3",
   "version": "3.8.5"
  }
 },
 "nbformat": 4,
 "nbformat_minor": 4
}
