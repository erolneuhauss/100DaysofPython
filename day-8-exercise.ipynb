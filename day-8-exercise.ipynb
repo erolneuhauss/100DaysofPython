{
 "cells": [
  {
   "cell_type": "code",
   "execution_count": 2,
   "metadata": {},
   "outputs": [
    {
     "name": "stdout",
     "output_type": "stream",
     "text": [
      "Height of wall: 2\n",
      "Width of wall: 6\n",
      "You'll need 3 cans of paint.\n"
     ]
    }
   ],
   "source": [
    "\n",
    "#Write your code below this line 👇\n",
    "import math\n",
    "def paint_calc(height, width, cover):\n",
    "    cans = math.ceil(height * width / cover)\n",
    "    print(f\"You'll need {cans} cans of paint.\")\n",
    "\n",
    "#Write your code above this line 👆\n",
    "# Define a function called paint_calc() so that the code below works.   \n",
    "\n",
    "# 🚨 Don't change the code below 👇\n",
    "test_h = int(input(\"Height of wall: \"))\n",
    "test_w = int(input(\"Width of wall: \"))\n",
    "coverage = 5\n",
    "paint_calc(height=test_h, width=test_w, cover=coverage)\n"
   ]
  },
  {
   "cell_type": "code",
   "execution_count": 64,
   "metadata": {},
   "outputs": [
    {
     "name": "stdout",
     "output_type": "stream",
     "text": [
      "Check this number: 1234567\n",
      "1234567 is NOT prime number\n",
      "1234567 can be devided by 127.\n",
      "1234567 / 127 = 9721\n"
     ]
    }
   ],
   "source": [
    "# Write your code below this line 👇\n",
    "def prime_checker(number):\n",
    "    position = 1\n",
    "    for i in range(2, number):\n",
    "        result = number % i\n",
    "        position += 1\n",
    "        if result == 0:\n",
    "            break\n",
    "    if result == 0:\n",
    "        print(f\"{number} is NOT prime number\")\n",
    "        print(f\"{number} can be devided by {position}.\" + \"\\n\"\n",
    "              f\"{number} / {position} = {int(number/position)}\")\n",
    "    else:\n",
    "        print(f\"{number} is prime number\")\n",
    "\n",
    "#Write your code above this line 👆\n",
    "#n = 10    \n",
    "#Do NOT change any of the code below👇\n",
    "n = int(input(\"Check this number: \"))\n",
    "prime_checker(number=n)"
   ]
  },
  {
   "cell_type": "code",
   "execution_count": 2,
   "metadata": {},
   "outputs": [
    {
     "name": "stdout",
     "output_type": "stream",
     "text": [
      "Check this number: 1234567\n",
      "1234567 is NOT prime number\n"
     ]
    }
   ],
   "source": [
    "def prime_checker(number):\n",
    "    is_prime = True\n",
    "    for i in range(2, number):\n",
    "        if number % i == 0:\n",
    "            is_prime = False\n",
    "            # Not a prime\n",
    "    # Is a prime\n",
    "    if is_prime == True:\n",
    "        print(f\"{number} is prime number\")\n",
    "    else:\n",
    "        print(f\"{number} is NOT prime number\")\n",
    "\n",
    "#Write your code above this line 👆\n",
    "#n = 10    \n",
    "#Do NOT change any of the code below👇\n",
    "n = int(input(\"Check this number: \"))\n",
    "prime_checker(number=n)"
   ]
  },
  {
   "cell_type": "code",
   "execution_count": null,
   "metadata": {},
   "outputs": [],
   "source": []
  }
 ],
 "metadata": {
  "kernelspec": {
   "display_name": "Python 3",
   "language": "python",
   "name": "python3"
  },
  "language_info": {
   "codemirror_mode": {
    "name": "ipython",
    "version": 3
   },
   "file_extension": ".py",
   "mimetype": "text/x-python",
   "name": "python",
   "nbconvert_exporter": "python",
   "pygments_lexer": "ipython3",
   "version": "3.8.5"
  }
 },
 "nbformat": 4,
 "nbformat_minor": 4
}
