{
 "cells": [
  {
   "cell_type": "code",
   "execution_count": 10,
   "metadata": {},
   "outputs": [
    {
     "name": "stdout",
     "output_type": "stream",
     "text": [
      "What is your name? Erol\n",
      "What is your bid?: $10\n",
      "Are there any other bidders?Type 'yes'. Otherwise type 'no'\n",
      "yes\n",
      "What is your name? tim\n",
      "What is your bid?: $109\n",
      "Are there any other bidders?Type 'yes'. Otherwise type 'no'\n",
      "no\n",
      "Goodbye!\n",
      "109\n",
      "tim\n",
      "Highest bidder is tim who has bid $109\n"
     ]
    }
   ],
   "source": [
    "bids = {}\n",
    "bidding_finished = False\n",
    "\n",
    "def find_highest_bidder(bidding_record):\n",
    "    highest_bid = 0\n",
    "    winner = \"\"\n",
    "    for bidder in bidding_record:\n",
    "        bid_amount = bidding_record[bidder]\n",
    "        if bid_amount > highest_bid:\n",
    "            highest_bid = bid_amount\n",
    "            winner = bidder\n",
    "    print(highest_bid)\n",
    "    print(winner)\n",
    "    print(f\"Highest bidder is {winner} who has bid ${highest_bid}\")\n",
    "\n",
    "while not bidding_finished:\n",
    "    name = input(\"What is your name? \")\n",
    "    bid = int(input(\"What is your bid?: $\"))\n",
    "    bids[name] = bid\n",
    "    should_continue = input(\"Are there any other bidders?\"+\n",
    "                            \"Type 'yes'. Otherwise type 'no'\\n\")\n",
    "    if should_continue == \"no\":\n",
    "        print(\"Goodbye!\")\n",
    "        bidding_finished = True\n",
    "        find_highest_bidder(bids)\n",
    "        \n"
   ]
  },
  {
   "cell_type": "code",
   "execution_count": null,
   "metadata": {},
   "outputs": [],
   "source": []
  }
 ],
 "metadata": {
  "kernelspec": {
   "display_name": "Python 3",
   "language": "python",
   "name": "python3"
  },
  "language_info": {
   "codemirror_mode": {
    "name": "ipython",
    "version": 3
   },
   "file_extension": ".py",
   "mimetype": "text/x-python",
   "name": "python",
   "nbconvert_exporter": "python",
   "pygments_lexer": "ipython3",
   "version": "3.8.5"
  }
 },
 "nbformat": 4,
 "nbformat_minor": 4
}
