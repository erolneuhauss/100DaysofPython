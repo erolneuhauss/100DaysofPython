{
 "cells": [
  {
   "cell_type": "code",
   "execution_count": null,
   "metadata": {},
   "outputs": [],
   "source": [
    "auction_dict = {\n",
    "    \"Sissi\": 10,\n",
    "    \"Erol\": 20,\n",
    "    \"Mel\": 50,\n",
    "    \"Zebra\": 30,\n",
    "    \"Alfred\": 100\n",
    "    }\n",
    "#print(auction_list)\n",
    "print(auction_dict)\n",
    "\n",
    "highest_value = max(auction_dict.values())\n",
    "print(highest_value)\n",
    "\n",
    "highest_bidder = max(auction_dict, key=auction_dict.get)\n",
    "print(highest_bidder)\n",
    "\n",
    "print(f\"Highest bidder is {highest_bidder} who has bid {auction_dict[highest_bidder]}\")\n",
    "\n",
    "auction_dict[\"Bernd\"] = 120\n",
    "print(auction_dict)\n",
    "\n",
    "highest_bidder = max(auction_dict, key=auction_dict.get)\n",
    "print(f\"Highest bidder is {highest_bidder} who has bid {auction_dict[highest_bidder]}\")\n",
    "\n",
    "def blind_auction(bidder_name, bidder_bid):\n",
    "    new_bid = {}\n",
    "    new_bid[\"name\"] = bidder_name\n",
    "    new_bid[\"bid\"] = bidder_bid\n",
    "    auction.append(new_bid)\n",
    "        \n",
    "print(gavel_logo)\n",
    "\n",
    "\n",
    "should_continue = True\n",
    "while should_continue:\n",
    "    name = input(\"What is your name? \")\n",
    "    bid = input(\"What is your bid? \")\n",
    "    blind_auction(bidder_name=name, bidder_bid=bid)\n",
    "    should_continue = input(\"Are there other users who want to bid?\"+\n",
    "                            \"Type 'yes' if you want to go again. Otherwise type 'no'\\n\")\n",
    "    if should_continue == 'no':\n",
    "        print(\"Goodbye!\")\n",
    "        should_continue = False\n",
    "\n",
    "max_bid = max(auction[\"bid\"][0])\n",
    "print(max_bid)\n",
    "print(auction)\n",
    "\n"
   ]
  }
 ],
 "metadata": {
  "kernelspec": {
   "display_name": "Python 3",
   "language": "python",
   "name": "python3"
  },
  "language_info": {
   "codemirror_mode": {
    "name": "ipython",
    "version": 3
   },
   "file_extension": ".py",
   "mimetype": "text/x-python",
   "name": "python",
   "nbconvert_exporter": "python",
   "pygments_lexer": "ipython3",
   "version": "3.8.5"
  }
 },
 "nbformat": 4,
 "nbformat_minor": 4
}
